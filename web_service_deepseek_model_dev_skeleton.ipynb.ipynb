{
 "cells": [
  {
   "cell_type": "markdown",
   "id": "f95b8048-e5da-4e0d-808f-7b25c4bda11c",
   "metadata": {},
   "source": [
    "# Srni Model -Step 1"
   ]
  },
  {
   "cell_type": "code",
   "execution_count": null,
   "id": "5ccfc588-b7e2-4033-b1a3-17cf9013f4ad",
   "metadata": {},
   "outputs": [],
   "source": [
    "model_id = \"tiiuae/falcon-7b\"\n",
    "\n",
    "tokenizer = AutoTokenizer.from_pretrained(model_id)\n",
    "\n",
    "model = AutoModelForSequenceClassification.from_pretrained(\n",
    "    model_id,\n",
    "    num_labels=2,              # spam vs not spam\n",
    "    load_in_4bit=True,         # fits in 16GB VRAM\n",
    "    device_map=\"auto\"\n",
    ")"
   ]
  },
  {
   "cell_type": "markdown",
   "id": "e61af2fd-08a6-4554-b614-a0b50b8e6e12",
   "metadata": {},
   "source": [
    "# Alex Model - Step 1"
   ]
  },
  {
   "cell_type": "code",
   "execution_count": null,
   "id": "7a1e32ff-4c6a-4152-a7ce-0fa6033d48ba",
   "metadata": {},
   "outputs": [],
   "source": [
    "# === Step 2: Tokenizer and Tokenization ===\n",
    "model_name = \"deepseek-ai/deepseek-llm-7b-base\"\n",
    "tokenizer = AutoTokenizer.from_pretrained(model_name, trust_remote_code=True)\n",
    "\n",
    "    model = AutoModelForSequenceClassification.from_pretrained(\n",
    "        model_name,\n",
    "        num_labels=num_labels,\n",
    "        quantization_config=bnb_config,\n",
    "        device_map=\"auto\",\n",
    "        trust_remote_code=True,\n",
    "    )\n"
   ]
  },
  {
   "cell_type": "markdown",
   "id": "cf76a214-85f9-4d2b-b54b-e6d714385a65",
   "metadata": {},
   "source": [
    "# Srini Step 2"
   ]
  },
  {
   "cell_type": "code",
   "execution_count": null,
   "id": "325b6402-3cda-46b7-9933-2f780e7948b0",
   "metadata": {},
   "outputs": [],
   "source": [
    "from datasets import load_dataset\n",
    "\n",
    "dataset = load_dataset(\"sms_spam\", split=\"train\")\n",
    "\n",
    "def format_example(example):\n",
    "    return {\n",
    "        \"text\": example[\"sms\"],\n",
    "        \"label\": int(example[\"label\"] == \"spam\")  # spam=1, ham=0\n",
    "    }\n",
    "\n",
    "dataset = dataset.map(format_example)\n",
    "\n",
    "def tokenize(batch):\n",
    "    return tokenizer(batch[\"text\"], truncation=True, padding=\"max_length\", max_length=128)\n",
    "\n",
    "encoded_dataset = dataset.map(tokenize, batched=True)"
   ]
  },
  {
   "cell_type": "markdown",
   "id": "855f5daf-71e3-4cdf-985e-c69ffcbd0520",
   "metadata": {},
   "source": [
    "# Alex Step 2"
   ]
  },
  {
   "cell_type": "code",
   "execution_count": null,
   "id": "e416024a-e52a-4389-a4a5-b294599a8e5d",
   "metadata": {},
   "outputs": [],
   "source": [
    "def load_data(n):\n",
    "    df = pd.read_csv(f\"Balanced_Top_{n}_Web_Services.csv\").dropna()\n",
    "    df = df[['Service Description', 'Grouped Category']].rename(columns={'Service Description': 'text', 'Grouped Category': 'label'})\n",
    "    label_encoder = LabelEncoder()\n",
    "    df['label'] = label_encoder.fit_transform(df['label'])\n",
    "    return df, label_encoder.classes_\n",
    "\n",
    "def tokenize_function(examples):\n",
    "    return tokenizer(examples['text'], truncation=True, padding=\"max_length\", max_length=256)"
   ]
  },
  {
   "cell_type": "markdown",
   "id": "3d328e85-aff0-4c1d-b8f6-91e362351eb7",
   "metadata": {},
   "source": [
    "\n",
    "# Srini Step 3"
   ]
  },
  {
   "cell_type": "code",
   "execution_count": null,
   "id": "162c2a52-b3a6-4387-8007-5914dbf1cbc9",
   "metadata": {},
   "outputs": [],
   "source": [
    "from peft import LoraConfig, get_peft_model, TaskType\n",
    "\n",
    "lora_config = LoraConfig(\n",
    "    task_type=TaskType.SEQ_CLS,\n",
    "    r=16,\n",
    "    lora_alpha=32,\n",
    "    lora_dropout=0.05\n",
    ")\n",
    "\n",
    "model = get_peft_model(model, lora_config)"
   ]
  },
  {
   "cell_type": "markdown",
   "id": "b345bd17-00ca-448f-abdc-0adce99fca6e",
   "metadata": {},
   "source": [
    "# Alex Step 3"
   ]
  },
  {
   "cell_type": "code",
   "execution_count": null,
   "id": "d4bd9a84-57be-4c3f-be09-a5c78eb2513d",
   "metadata": {},
   "outputs": [],
   "source": [
    "def get_peft_model_for_classification(num_labels):\n",
    "    bnb_config = BitsAndBytesConfig(\n",
    "        load_in_4bit=True,\n",
    "        bnb_4bit_use_double_quant=True,\n",
    "        bnb_4bit_quant_type=\"nf4\",\n",
    "        bnb_4bit_compute_dtype=torch.bfloat16,\n",
    "    )\n",
    "\n",
    "    peft_config = LoraConfig(\n",
    "        task_type=TaskType.SEQ_CLS,\n",
    "        r=16,\n",
    "        lora_alpha=32,\n",
    "        lora_dropout=0.05,\n",
    "        bias=\"none\"\n",
    "    )\n",
    "\n",
    "get_peft_model(model, peft_config)"
   ]
  },
  {
   "cell_type": "markdown",
   "id": "ff57066e-4996-4107-b683-8a5cd9f42aaa",
   "metadata": {},
   "source": [
    "# Srini Step 4"
   ]
  },
  {
   "cell_type": "code",
   "execution_count": null,
   "id": "37765c02-630d-4347-900d-97640fc946c1",
   "metadata": {},
   "outputs": [],
   "source": [
    "from transformers import TrainingArguments, Trainer\n",
    "\n",
    "training_args = TrainingArguments(\n",
    "    output_dir=\"./falcon_spam_lora\",\n",
    "    per_device_train_batch_size=4,\n",
    "    learning_rate=2e-4,\n",
    "    num_train_epochs=3,\n",
    "    eval_strategy=\"steps\",\n",
    "    save_strategy=\"epoch\",\n",
    "    logging_steps=50,\n",
    "    fp16=True\n",
    ")\n",
    "\n",
    "trainer = Trainer(\n",
    "    model=model,\n",
    "    args=training_args,\n",
    "    train_dataset=encoded_dataset,\n",
    "    eval_dataset=encoded_dataset.select(range(500))  # small validation set\n",
    ")\n",
    "\n",
    "trainer.train()"
   ]
  },
  {
   "cell_type": "markdown",
   "id": "68fd0382-a026-4207-820e-34f82c91d410",
   "metadata": {},
   "source": [
    "# Alex Step 4"
   ]
  },
  {
   "cell_type": "code",
   "execution_count": null,
   "id": "2b6009fb-37ea-453b-b6c9-9d7a9a15fc65",
   "metadata": {},
   "outputs": [],
   "source": [
    "\n",
    "\n",
    "\n",
    "\n",
    "    training_args = TrainingArguments(\n",
    "        output_dir=f\"./results_lora_deepseek_top_{n}\",\n",
    "        per_device_train_batch_size=2,\n",
    "        per_device_eval_batch_size=2,\n",
    "        gradient_accumulation_steps=4,\n",
    "        num_train_epochs=3,\n",
    "        learning_rate=2e-4,\n",
    "        eval_strategy=\"epoch\",\n",
    "        save_strategy=\"epoch\",\n",
    "        logging_steps=10,\n",
    "        save_total_limit=2,\n",
    "        load_best_model_at_end=True,\n",
    "        report_to=\"none\",\n",
    "        fp16=True\n",
    "    )\n",
    "\n",
    "    trainer = Trainer(\n",
    "        model=model,\n",
    "        tokenizer=tokenizer,\n",
    "        args=training_args,\n",
    "        train_dataset=tokenized[\"train\"],\n",
    "        eval_dataset=tokenized[\"test\"],\n",
    "        compute_metrics=compute_metrics,\n",
    "    )\n",
    "\n",
    "    trainer.train()"
   ]
  },
  {
   "cell_type": "code",
   "execution_count": null,
   "id": "8b17236e-d5cf-452f-b34f-27cfdbd91f69",
   "metadata": {},
   "outputs": [],
   "source": []
  }
 ],
 "metadata": {
  "kernelspec": {
   "display_name": "Python 3 (ipykernel)",
   "language": "python",
   "name": "python3"
  },
  "language_info": {
   "codemirror_mode": {
    "name": "ipython",
    "version": 3
   },
   "file_extension": ".py",
   "mimetype": "text/x-python",
   "name": "python",
   "nbconvert_exporter": "python",
   "pygments_lexer": "ipython3",
   "version": "3.11.5"
  }
 },
 "nbformat": 4,
 "nbformat_minor": 5
}
